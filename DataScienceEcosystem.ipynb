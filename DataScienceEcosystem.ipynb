{
 "cells": [
  {
   "cell_type": "code",
   "execution_count": null,
   "id": "initial_id",
   "metadata": {
    "collapsed": true
   },
   "outputs": [],
   "source": [
    ""
   ]
  },
  {
   "metadata": {},
   "cell_type": "markdown",
   "source": "# Data Science Tools and Ecosystem\n",
   "id": "54a8d54c4e8d6cb5"
  },
  {
   "metadata": {},
   "cell_type": "markdown",
   "source": [
    "In this notebook, Data Science Tools and Ecosystem are summarized.\n",
    "\n"
   ],
   "id": "ee4b71e010125b7a"
  },
  {
   "metadata": {},
   "cell_type": "markdown",
   "source": [
    "Some of the popular languages that Data Scientists use are:\n",
    "1. Python\n",
    "2. R\n",
    "3. SQL\n",
    "4. Julia\n",
    "5. Java\n"
   ],
   "id": "665f0c1b8b074a0c"
  },
  {
   "metadata": {},
   "cell_type": "markdown",
   "source": [
    "Some of the commonly used libraries used by Data Scientists include:\n",
    "1. Pandas\n",
    "2. NumPy\n",
    "3. Scikit-learn\n",
    "4. TensorFlow\n",
    "5. Matplotlib\n"
   ],
   "id": "f105e5711db139ba"
  },
  {
   "metadata": {},
   "cell_type": "markdown",
   "source": [
    "| Data Science Tools |\n",
    "|--------------------|\n",
    "| Jupyter Notebook   |\n",
    "| RStudio            |\n",
    "| Apache Zeppelin    |\n"
   ],
   "id": "80e90191e8c496e5"
  },
  {
   "metadata": {},
   "cell_type": "markdown",
   "source": "### Below are a few examples of evaluating arithmetic expressions in Python.\n",
   "id": "2a738a8a6b8aa37a"
  },
  {
   "metadata": {
    "ExecuteTime": {
     "end_time": "2024-06-09T12:57:43.359137Z",
     "start_time": "2024-06-09T12:57:43.331054Z"
    }
   },
   "cell_type": "code",
   "source": [
    "# This is a simple arithmetic expression to multiply then add integers\n",
    "(3 * 4) + 5\n"
   ],
   "id": "829b3649d65f16b4",
   "outputs": [
    {
     "data": {
      "text/plain": [
       "17"
      ]
     },
     "execution_count": 1,
     "metadata": {},
     "output_type": "execute_result"
    }
   ],
   "execution_count": 1
  },
  {
   "metadata": {
    "ExecuteTime": {
     "end_time": "2024-06-09T12:59:48.891621Z",
     "start_time": "2024-06-09T12:59:48.881493Z"
    }
   },
   "cell_type": "code",
   "source": [
    "# This will convert 200 minutes to hours by dividing by 60\n",
    "200 / 60\n"
   ],
   "id": "28fc0b28bdf93bdd",
   "outputs": [
    {
     "data": {
      "text/plain": [
       "3.3333333333333335"
      ]
     },
     "execution_count": 2,
     "metadata": {},
     "output_type": "execute_result"
    }
   ],
   "execution_count": 2
  },
  {
   "metadata": {},
   "cell_type": "code",
   "outputs": [],
   "execution_count": null,
   "source": "",
   "id": "fb482915eb459457"
  },
  {
   "metadata": {},
   "cell_type": "markdown",
   "source": [
    "**Objectives:**\n",
    "- List popular languages for Data Science\n",
    "- List commonly used libraries for Data Science\n",
    "- List development environment open source tools used in Data Science\n",
    "- Provide examples of evaluating arithmetic expressions in Python\n",
    "\n"
   ],
   "id": "6940ac8a3a916c01"
  },
  {
   "metadata": {},
   "cell_type": "markdown",
   "source": [
    "## Author\n",
    "Abdurrahman Tolay"
   ],
   "id": "93c58a5761b3b322"
  }
 ],
 "metadata": {
  "kernelspec": {
   "display_name": "Python 3",
   "language": "python",
   "name": "python3"
  },
  "language_info": {
   "codemirror_mode": {
    "name": "ipython",
    "version": 2
   },
   "file_extension": ".py",
   "mimetype": "text/x-python",
   "name": "python",
   "nbconvert_exporter": "python",
   "pygments_lexer": "ipython2",
   "version": "2.7.6"
  }
 },
 "nbformat": 4,
 "nbformat_minor": 5
}
